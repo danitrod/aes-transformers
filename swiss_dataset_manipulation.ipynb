{
 "metadata": {
  "language_info": {
   "codemirror_mode": {
    "name": "ipython",
    "version": 3
   },
   "file_extension": ".py",
   "mimetype": "text/x-python",
   "name": "python",
   "nbconvert_exporter": "python",
   "pygments_lexer": "ipython3",
   "version": "3.9.5"
  },
  "orig_nbformat": 4,
  "kernelspec": {
   "name": "python3",
   "display_name": "Python 3.9.5 64-bit"
  },
  "interpreter": {
   "hash": "aee8b7b246df8f9039afb4144a1f6fd8d2ca17a180786b69acc140d282b71a49"
  }
 },
 "nbformat": 4,
 "nbformat_minor": 2,
 "cells": [
  {
   "cell_type": "code",
   "execution_count": 55,
   "metadata": {},
   "outputs": [],
   "source": [
    "import os\n",
    "import matplotlib.pyplot as plt\n",
    "import pandas as pd"
   ]
  },
  {
   "cell_type": "code",
   "execution_count": 71,
   "metadata": {},
   "outputs": [
    {
     "output_type": "stream",
     "name": "stdout",
     "text": [
      "decoding error on file 3641.txt: 'utf-8' codec can't decode byte 0xae in position 69: invalid start byte\ndecoding error on file 3720.txt: 'utf-8' codec can't decode byte 0xf9 in position 508: invalid start byte\ndecoding error on file 3591.txt: 'utf-8' codec can't decode byte 0xf8 in position 3391: invalid start byte\ndecoding error on file 3635.txt: 'utf-8' codec can't decode byte 0xf9 in position 363: invalid start byte\ndecoding error on file 3613.txt: 'utf-8' codec can't decode byte 0xd2 in position 81: invalid continuation byte\ndecoding error on file 3605.txt: 'utf-8' codec can't decode byte 0xf9 in position 2559: invalid start byte\ndecoding error on file 3610.txt: 'utf-8' codec can't decode byte 0xf9 in position 1865: invalid start byte\ndecoding error on file 3628.txt: 'utf-8' codec can't decode byte 0xf9 in position 1316: invalid start byte\ndecoding error on file 3648.txt: 'utf-8' codec can't decode byte 0xae in position 1401: invalid start byte\n"
     ]
    }
   ],
   "source": [
    "# Get the dataset\n",
    "path = 'AES.nosync/_Social Media Class Essays Dataset/_Dataset/_TXT/'\n",
    "texts = []\n",
    "for file in os.listdir(path):\n",
    "    try:\n",
    "        with open(path + file, 'r') as f:\n",
    "            texts.append(f.read().replace('\\n', ' ').replace('\\t', ' ').replace('  ', ' ').strip().lower())\n",
    "    except UnicodeDecodeError as err:\n",
    "        print(f\"decoding error on file {file}: {err}\")"
   ]
  },
  {
   "cell_type": "code",
   "execution_count": 72,
   "metadata": {},
   "outputs": [
    {
     "output_type": "execute_result",
     "data": {
      "text/plain": [
       "                                               essay\n",
       "0  9gag - number of posts by 9gag user  why 9gag?...\n",
       "1  social media spring 2013 project 1 - mining th...\n",
       "2  social media: individual work the long tail of...\n",
       "3  youtube user information analysis march 18, 20...\n",
       "4  social medias report on long tail effect intro..."
      ],
      "text/html": "<div>\n<style scoped>\n    .dataframe tbody tr th:only-of-type {\n        vertical-align: middle;\n    }\n\n    .dataframe tbody tr th {\n        vertical-align: top;\n    }\n\n    .dataframe thead th {\n        text-align: right;\n    }\n</style>\n<table border=\"1\" class=\"dataframe\">\n  <thead>\n    <tr style=\"text-align: right;\">\n      <th></th>\n      <th>essay</th>\n    </tr>\n  </thead>\n  <tbody>\n    <tr>\n      <th>0</th>\n      <td>9gag - number of posts by 9gag user  why 9gag?...</td>\n    </tr>\n    <tr>\n      <th>1</th>\n      <td>social media spring 2013 project 1 - mining th...</td>\n    </tr>\n    <tr>\n      <th>2</th>\n      <td>social media: individual work the long tail of...</td>\n    </tr>\n    <tr>\n      <th>3</th>\n      <td>youtube user information analysis march 18, 20...</td>\n    </tr>\n    <tr>\n      <th>4</th>\n      <td>social medias report on long tail effect intro...</td>\n    </tr>\n  </tbody>\n</table>\n</div>"
     },
     "metadata": {},
     "execution_count": 72
    }
   ],
   "source": [
    "df = pd.DataFrame(texts)\n",
    "df.columns = ['essay']\n",
    "df.head()"
   ]
  },
  {
   "cell_type": "code",
   "execution_count": 73,
   "metadata": {},
   "outputs": [],
   "source": [
    "df.to_csv('swiss.csv', index=False)"
   ]
  },
  {
   "cell_type": "code",
   "execution_count": null,
   "metadata": {},
   "outputs": [],
   "source": []
  }
 ]
}